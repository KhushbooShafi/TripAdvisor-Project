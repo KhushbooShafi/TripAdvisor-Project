{
 "cells": [
  {
   "cell_type": "markdown",
   "id": "098b3eb9",
   "metadata": {},
   "source": [
    "# Scraping Hotel Reviews from TripAdvisor\n",
    "\n",
    "#### Scraped English reviews from hotels based in Seoul: https://www.tripadvisor.in/Hotels-g294197-Seoul-Hotels.html\n",
    "#### Top 240 hotels were selected in order of the Best Value as listed on TripAdvisor as of March 6, 2023."
   ]
  },
  {
   "cell_type": "code",
   "execution_count": 1,
   "id": "0023e79d",
   "metadata": {
    "ExecuteTime": {
     "end_time": "2023-03-06T05:51:39.198110Z",
     "start_time": "2023-03-06T05:51:38.172059Z"
    }
   },
   "outputs": [],
   "source": [
    "# importing required libraries\n",
    "\n",
    "import time\n",
    "import pandas as pd\n",
    "import selenium\n",
    "from selenium import webdriver\n",
    "from webdriver_manager.chrome import ChromeDriverManager\n",
    "from selenium.webdriver.common.by import By\n",
    "from selenium import webdriver\n",
    "from selenium.webdriver.common.action_chains import ActionChains\n",
    "from selenium.webdriver.common.by import By\n",
    "from selenium.webdriver.common.keys import Keys\n",
    "from selenium.webdriver.support import expected_conditions as EC\n",
    "from selenium.webdriver.support.ui import WebDriverWait\n",
    "from webdriver_manager.chrome import ChromeDriverManager\n",
    "from selenium.common.exceptions import NoSuchElementException\n",
    "from selenium.common.exceptions import StaleElementReferenceException"
   ]
  },
  {
   "cell_type": "markdown",
   "id": "58dfaf11",
   "metadata": {},
   "source": [
    "#### Reading Hotel Dataset (Hotel Name and it's URL)"
   ]
  },
  {
   "cell_type": "code",
   "execution_count": 2,
   "id": "53f4e61a",
   "metadata": {
    "ExecuteTime": {
     "end_time": "2023-03-06T05:57:24.230965Z",
     "start_time": "2023-03-06T05:57:23.009215Z"
    }
   },
   "outputs": [],
   "source": [
    "df = pd.read_excel('Tripadvisor_HotelsList.xlsx')\n",
    "hotels = df['Hotel'].tolist()\n",
    "urls = df['URL'].tolist() "
   ]
  },
  {
   "cell_type": "markdown",
   "id": "fbabc9b5",
   "metadata": {},
   "source": [
    "### Complete Code for Scraping Title, Date, Reviewer, Location, Rating and the Review Text\n",
    "\n",
    "##### This code will scrape the data for all the hotels provided through a list (Approximately takes 10.5 hours)"
   ]
  },
  {
   "cell_type": "code",
   "execution_count": null,
   "id": "b9013d79",
   "metadata": {
    "ExecuteTime": {
     "end_time": "2023-03-06T16:21:14.925235Z",
     "start_time": "2023-03-06T05:59:39.301306Z"
    }
   },
   "outputs": [],
   "source": [
    "for hotel,url in zip(hotels,urls):\n",
    "    \n",
    "    time.sleep(30)\n",
    "    \n",
    "    hotelname = hotel\n",
    "    hotelurl = url\n",
    "    \n",
    "    \n",
    "    \n",
    "    Title = []\n",
    "    Date = []\n",
    "    Reviewer = []\n",
    "    Location = []\n",
    "    Rating = []\n",
    "    Review = []\n",
    "\n",
    "    options = webdriver.ChromeOptions()\n",
    "    options.add_argument('--ignore-certificate-errors')\n",
    "    options.add_argument('--incognito')\n",
    "    driver = webdriver.Chrome(ChromeDriverManager().install(), options=options)\n",
    "\n",
    "    #getting the link of the hotel\n",
    "\n",
    "    driver.get(url)\n",
    "\n",
    "    # defining the function to extract reviews\n",
    "    \n",
    "    def getreviews():\n",
    "        \n",
    "        # clicks on'Read More' button to expand each review to get full review\n",
    "        element_list = driver.find_elements(By.XPATH, \"//span[@class='Ignyf _S Z']\") \n",
    "        \n",
    "        if len(element_list) > 0:\n",
    "            print(f'there is an element: {element_list}')\n",
    "            driver.execute_script(\"arguments[0].click();\", element_list[0])\n",
    "        else:\n",
    "            print('theres no element')\n",
    "            time.sleep(2)\n",
    "\n",
    "        # we will go with one review at a time. It finds the element which contains all data including title,\n",
    "        # date, reviewer, location,rating, review text for each review.\n",
    "        \n",
    "        containers = driver.find_elements(By.XPATH, \"//div[@class='YibKl MC R2 Gi z Z BB pBbQr']\")\n",
    "\n",
    "        # looping through the elements found above\n",
    "        \n",
    "        for items in containers:\n",
    "\n",
    "            try:\n",
    "                title = items.find_element(By.XPATH,\".//div[contains(@data-test-target, 'review-title')]\")\n",
    "                Title.append(title.text)\n",
    "\n",
    "            except NoSuchElementException:\n",
    "                Title.append(\"N/A\")\n",
    "\n",
    "\n",
    "            try:\n",
    "                dates = items.find_element(By.XPATH,\".//span[@class = 'teHYY _R Me S4 H3']\" )\n",
    "                Date.append(dates.text)\n",
    "            except NoSuchElementException:\n",
    "                Date.append(\"N/A\")\n",
    "\n",
    "\n",
    "            try:\n",
    "                reviewer = items.find_element(By.XPATH, \".//div[@class='cRVSd']\")\n",
    "                Reviewer.append(reviewer.text)\n",
    "            except NoSuchElementException:\n",
    "                Reviewer.append(\"N/A\")\n",
    "\n",
    "\n",
    "            try:\n",
    "                reviewer_loc = items.find_element(By.XPATH, \".//span[@class='RdTWF']\")\n",
    "                Location.append(reviewer_loc.text)\n",
    "            except NoSuchElementException:\n",
    "                Location.append(\"N/A\")         \n",
    "\n",
    "\n",
    "            try:\n",
    "                for div in items.find_elements(By.XPATH,\".//div[@class = 'Hlmiy F1']\"):\n",
    "                    rating = div.find_element(By.TAG_NAME, \"span\")\n",
    "                    Rating.append(rating.get_attribute(\"class\").split(\"_\")[-1])\n",
    "            except NoSuchElementException:\n",
    "                Rating.append(\"N/A\")\n",
    "\n",
    "\n",
    "            try:\n",
    "                review = items.find_element(By.XPATH,\".//q[@class='QewHA H4 _a']\")\n",
    "                Review.append(review.text)\n",
    "            except NoSuchElementException:\n",
    "                Review.append(\"N/A\")\n",
    "\n",
    "   #running a while loop to loop through all the pages of a hotel unless there is no \"Next\" button to click.\n",
    "\n",
    "    i = 1\n",
    "    nextbn = True\n",
    "    while True:\n",
    "        try:\n",
    "            time.sleep(3)\n",
    "            getreviews()\n",
    "            driver.find_element(By.XPATH,f\"//div/div[3]/div[13]/div/a[{i}]\").click()\n",
    "            i= i+1\n",
    "            if i>2:\n",
    "                while nextbn:\n",
    "                    try: \n",
    "                        # clicks the \"Next\" button\n",
    "                        driver.find_element(By.XPATH,f\"//div/div[3]/div[13]/div/a[2]\").click()\n",
    "                        time.sleep(3) \n",
    "                        getreviews()\n",
    "                    except NoSuchElementException:\n",
    "                        nextbn = False\n",
    "                break     \n",
    "        except NoSuchElementException:\n",
    "            break\n",
    "\n",
    "\n",
    "    # Prepare CSV file\n",
    "\n",
    "    Hotel = [hotelname for i in range(len(Review))]\n",
    "    dict = {'Hotel': Hotel,'Title': Title,'Date':Date,'Reviewer': Reviewer,'Location': Location,'Rating': Rating,'Review':Review}\n",
    "    df = pd.DataFrame(dict)\n",
    "    df.to_csv(f\"{hotelname}.csv\",index = False)   \n"
   ]
  },
  {
   "cell_type": "markdown",
   "id": "2167f38d",
   "metadata": {},
   "source": [
    "### Saving the Data"
   ]
  },
  {
   "cell_type": "code",
   "execution_count": null,
   "id": "c9d9c1c4",
   "metadata": {
    "ExecuteTime": {
     "end_time": "2023-03-07T00:57:20.168929Z",
     "start_time": "2023-03-07T00:57:20.141896Z"
    }
   },
   "outputs": [],
   "source": [
    "# We have 240 files, one for each Hotel. Reading all the CSV files in this project directory.\n",
    "\n",
    "import os\n",
    "import pandas as pd\n",
    "import glob\n",
    "\n",
    "#listing all the files (CSV only)\n",
    "\n",
    "hotels_file_list = glob.glob('*.{}'.format('csv'))\n",
    "\n",
    "print(len(hotels_file_list))\n",
    "hotels_file_list"
   ]
  },
  {
   "cell_type": "code",
   "execution_count": 7,
   "id": "8a5bf3ea",
   "metadata": {
    "ExecuteTime": {
     "end_time": "2023-03-07T00:58:43.222793Z",
     "start_time": "2023-03-07T00:58:41.486645Z"
    }
   },
   "outputs": [
    {
     "data": {
      "text/plain": [
       "(50178, 7)"
      ]
     },
     "execution_count": 7,
     "metadata": {},
     "output_type": "execute_result"
    }
   ],
   "source": [
    "#Merging all the files \n",
    "\n",
    "df_final = pd.concat([pd.read_csv(f) for f in hotels_file_list ], ignore_index=True)\n",
    "df_final.shape"
   ]
  },
  {
   "cell_type": "code",
   "execution_count": 9,
   "id": "5784b1ac",
   "metadata": {
    "ExecuteTime": {
     "end_time": "2023-03-07T01:02:46.202295Z",
     "start_time": "2023-03-07T01:02:44.386160Z"
    }
   },
   "outputs": [
    {
     "data": {
      "text/html": [
       "<div>\n",
       "<style scoped>\n",
       "    .dataframe tbody tr th:only-of-type {\n",
       "        vertical-align: middle;\n",
       "    }\n",
       "\n",
       "    .dataframe tbody tr th {\n",
       "        vertical-align: top;\n",
       "    }\n",
       "\n",
       "    .dataframe thead th {\n",
       "        text-align: right;\n",
       "    }\n",
       "</style>\n",
       "<table border=\"1\" class=\"dataframe\">\n",
       "  <thead>\n",
       "    <tr style=\"text-align: right;\">\n",
       "      <th></th>\n",
       "      <th>Hotel</th>\n",
       "      <th>Title</th>\n",
       "      <th>Date</th>\n",
       "      <th>Reviewer</th>\n",
       "      <th>Location</th>\n",
       "      <th>Rating</th>\n",
       "      <th>Review</th>\n",
       "    </tr>\n",
       "  </thead>\n",
       "  <tbody>\n",
       "    <tr>\n",
       "      <th>0</th>\n",
       "      <td>9Brick_Hotel</td>\n",
       "      <td>Love the look</td>\n",
       "      <td>Date of stay: December 2022</td>\n",
       "      <td>ChristelleNg wrote a review Jan 2023</td>\n",
       "      <td>Singapore, Singapore</td>\n",
       "      <td>40</td>\n",
       "      <td>Location not too bad. Near the Hongik station....</td>\n",
       "    </tr>\n",
       "    <tr>\n",
       "      <th>1</th>\n",
       "      <td>9Brick_Hotel</td>\n",
       "      <td>Very bad experience</td>\n",
       "      <td>Date of stay: December 2022</td>\n",
       "      <td>Molly123 wrote a review Dec 2022</td>\n",
       "      <td>NaN</td>\n",
       "      <td>10</td>\n",
       "      <td>I asked the hotel to provide another set of co...</td>\n",
       "    </tr>\n",
       "    <tr>\n",
       "      <th>2</th>\n",
       "      <td>9Brick_Hotel</td>\n",
       "      <td>Chic design</td>\n",
       "      <td>Date of stay: October 2019</td>\n",
       "      <td>wamysdottir wrote a review Apr 2020</td>\n",
       "      <td>Copenhagen, Denmark</td>\n",
       "      <td>40</td>\n",
       "      <td>A clean boutique hotel conveniently located wi...</td>\n",
       "    </tr>\n",
       "    <tr>\n",
       "      <th>3</th>\n",
       "      <td>9Brick_Hotel</td>\n",
       "      <td>Great location but weak service standards</td>\n",
       "      <td>Date of stay: December 2019</td>\n",
       "      <td>worldtraveller wrote a review Dec 2019</td>\n",
       "      <td>NaN</td>\n",
       "      <td>30</td>\n",
       "      <td>Let me start with what I like about the hotel....</td>\n",
       "    </tr>\n",
       "    <tr>\n",
       "      <th>4</th>\n",
       "      <td>9Brick_Hotel</td>\n",
       "      <td>Never better</td>\n",
       "      <td>Date of stay: November 2019</td>\n",
       "      <td>Hui Yingg wrote a review Nov 2019</td>\n",
       "      <td>Sydney, Australia</td>\n",
       "      <td>40</td>\n",
       "      <td>This hotel exceeded my expectations in terms o...</td>\n",
       "    </tr>\n",
       "  </tbody>\n",
       "</table>\n",
       "</div>"
      ],
      "text/plain": [
       "          Hotel                                      Title  \\\n",
       "0  9Brick_Hotel                              Love the look   \n",
       "1  9Brick_Hotel                        Very bad experience   \n",
       "2  9Brick_Hotel                                Chic design   \n",
       "3  9Brick_Hotel  Great location but weak service standards   \n",
       "4  9Brick_Hotel                               Never better   \n",
       "\n",
       "                          Date                                Reviewer  \\\n",
       "0  Date of stay: December 2022    ChristelleNg wrote a review Jan 2023   \n",
       "1  Date of stay: December 2022        Molly123 wrote a review Dec 2022   \n",
       "2   Date of stay: October 2019     wamysdottir wrote a review Apr 2020   \n",
       "3  Date of stay: December 2019  worldtraveller wrote a review Dec 2019   \n",
       "4  Date of stay: November 2019       Hui Yingg wrote a review Nov 2019   \n",
       "\n",
       "               Location  Rating  \\\n",
       "0  Singapore, Singapore      40   \n",
       "1                   NaN      10   \n",
       "2   Copenhagen, Denmark      40   \n",
       "3                   NaN      30   \n",
       "4     Sydney, Australia      40   \n",
       "\n",
       "                                              Review  \n",
       "0  Location not too bad. Near the Hongik station....  \n",
       "1  I asked the hotel to provide another set of co...  \n",
       "2  A clean boutique hotel conveniently located wi...  \n",
       "3  Let me start with what I like about the hotel....  \n",
       "4  This hotel exceeded my expectations in terms o...  "
      ]
     },
     "execution_count": 9,
     "metadata": {},
     "output_type": "execute_result"
    }
   ],
   "source": [
    "#saving the dataframe to the file\n",
    "\n",
    "df_final.to_csv(\"TripAdvisor_English_Reviews_Seoul_Hotels.csv\", index = False)\n",
    "pd.read_csv(\"TripAdvisor_English_Reviews_Seoul_Hotels.csv\").head()"
   ]
  },
  {
   "cell_type": "code",
   "execution_count": null,
   "id": "ad42ca13",
   "metadata": {},
   "outputs": [],
   "source": []
  },
  {
   "cell_type": "code",
   "execution_count": null,
   "id": "5de49eae",
   "metadata": {},
   "outputs": [],
   "source": []
  },
  {
   "cell_type": "code",
   "execution_count": null,
   "id": "6d5b8f09",
   "metadata": {},
   "outputs": [],
   "source": []
  },
  {
   "cell_type": "code",
   "execution_count": null,
   "id": "f342c44b",
   "metadata": {},
   "outputs": [],
   "source": []
  }
 ],
 "metadata": {
  "kernelspec": {
   "display_name": "Python 3 (ipykernel)",
   "language": "python",
   "name": "python3"
  },
  "language_info": {
   "codemirror_mode": {
    "name": "ipython",
    "version": 3
   },
   "file_extension": ".py",
   "mimetype": "text/x-python",
   "name": "python",
   "nbconvert_exporter": "python",
   "pygments_lexer": "ipython3",
   "version": "3.9.7"
  },
  "varInspector": {
   "cols": {
    "lenName": 16,
    "lenType": 16,
    "lenVar": 40
   },
   "kernels_config": {
    "python": {
     "delete_cmd_postfix": "",
     "delete_cmd_prefix": "del ",
     "library": "var_list.py",
     "varRefreshCmd": "print(var_dic_list())"
    },
    "r": {
     "delete_cmd_postfix": ") ",
     "delete_cmd_prefix": "rm(",
     "library": "var_list.r",
     "varRefreshCmd": "cat(var_dic_list()) "
    }
   },
   "types_to_exclude": [
    "module",
    "function",
    "builtin_function_or_method",
    "instance",
    "_Feature"
   ],
   "window_display": false
  }
 },
 "nbformat": 4,
 "nbformat_minor": 5
}
